{
 "cells": [
  {
   "cell_type": "code",
   "execution_count": 3,
   "metadata": {},
   "outputs": [
    {
     "name": "stdout",
     "output_type": "stream",
     "text": [
      "3の倍数\n",
      "余り1\n",
      "\n",
      "3の倍数\n",
      "余り1\n",
      "\n",
      "3の倍数\n",
      "余り1\n",
      "\n",
      "3の倍数\n",
      "余り1\n",
      "\n",
      "3の倍数\n",
      "余り1\n",
      "\n",
      "3の倍数\n",
      "余り1\n",
      "\n",
      "3の倍数\n",
      "余り1\n",
      "\n",
      "3の倍数\n",
      "余り1\n",
      "\n",
      "3の倍数\n",
      "余り1\n",
      "\n",
      "3の倍数\n",
      "余り1\n",
      "\n",
      "3の倍数\n",
      "余り1\n",
      "\n",
      "3の倍数\n",
      "余り1\n",
      "\n",
      "3の倍数\n",
      "余り1\n",
      "\n",
      "3の倍数\n",
      "余り1\n",
      "\n",
      "3の倍数\n",
      "余り1\n",
      "\n",
      "3の倍数\n",
      "余り1\n",
      "\n",
      "3の倍数\n",
      "余り1\n"
     ]
    }
   ],
   "source": [
    "for i in range(50):\n",
    "    if i%3==0:\n",
    "        print(\"3の倍数\")\n",
    "    elif i%3==1:\n",
    "        print(\"余り1\")\n",
    "    else:\n",
    "        print(\"\")"
   ]
  },
  {
   "cell_type": "code",
   "execution_count": 2,
   "metadata": {},
   "outputs": [
    {
     "ename": "SyntaxError",
     "evalue": "invalid syntax (<ipython-input-2-fed692d9f548>, line 4)",
     "output_type": "error",
     "traceback": [
      "\u001b[1;36m  File \u001b[1;32m\"<ipython-input-2-fed692d9f548>\"\u001b[1;36m, line \u001b[1;32m4\u001b[0m\n\u001b[1;33m    else i%3==1:\u001b[0m\n\u001b[1;37m       ^\u001b[0m\n\u001b[1;31mSyntaxError\u001b[0m\u001b[1;31m:\u001b[0m invalid syntax\n"
     ]
    }
   ],
   "source": [
    "for i in range(50):\n",
    "    if i%3==0:\n",
    "        print(\"3の倍数\")\n",
    "        else i%3==1:\n",
    "            print(\"余り1\")\n",
    "            else:\n",
    "                print(\"\")"
   ]
  },
  {
   "cell_type": "code",
   "execution_count": null,
   "metadata": {},
   "outputs": [],
   "source": []
  }
 ],
 "metadata": {
  "kernelspec": {
   "display_name": "Python 3",
   "language": "python",
   "name": "python3"
  },
  "language_info": {
   "codemirror_mode": {
    "name": "ipython",
    "version": 3
   },
   "file_extension": ".py",
   "mimetype": "text/x-python",
   "name": "python",
   "nbconvert_exporter": "python",
   "pygments_lexer": "ipython3",
   "version": "3.6.5"
  }
 },
 "nbformat": 4,
 "nbformat_minor": 2
}
